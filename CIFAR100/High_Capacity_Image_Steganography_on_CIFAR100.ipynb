{
  "nbformat": 4,
  "nbformat_minor": 0,
  "metadata": {
    "colab": {
      "name": "High-Capacity-Image-Steganography-on-CIFAR100.ipynb",
      "provenance": [],
      "collapsed_sections": []
    },
    "kernelspec": {
      "name": "python3",
      "display_name": "Python 3"
    },
    "language_info": {
      "name": "python"
    },
    "gpuClass": "standard",
    "widgets": {
      "application/vnd.jupyter.widget-state+json": {
        "ac2582db4e5648199002d72a716aa5f0": {
          "model_module": "@jupyter-widgets/controls",
          "model_name": "HBoxModel",
          "model_module_version": "1.5.0",
          "state": {
            "_dom_classes": [],
            "_model_module": "@jupyter-widgets/controls",
            "_model_module_version": "1.5.0",
            "_model_name": "HBoxModel",
            "_view_count": null,
            "_view_module": "@jupyter-widgets/controls",
            "_view_module_version": "1.5.0",
            "_view_name": "HBoxView",
            "box_style": "",
            "children": [
              "IPY_MODEL_72c8598261ca4549840ca650df00c567",
              "IPY_MODEL_a5f2b48f79f4495b8f34b667fadfa666",
              "IPY_MODEL_64ac5fc535dd49f3aadd869b07667c00"
            ],
            "layout": "IPY_MODEL_7633f9d90dfc4cabb952ea9555e7e79f"
          }
        },
        "72c8598261ca4549840ca650df00c567": {
          "model_module": "@jupyter-widgets/controls",
          "model_name": "HTMLModel",
          "model_module_version": "1.5.0",
          "state": {
            "_dom_classes": [],
            "_model_module": "@jupyter-widgets/controls",
            "_model_module_version": "1.5.0",
            "_model_name": "HTMLModel",
            "_view_count": null,
            "_view_module": "@jupyter-widgets/controls",
            "_view_module_version": "1.5.0",
            "_view_name": "HTMLView",
            "description": "",
            "description_tooltip": null,
            "layout": "IPY_MODEL_69a2939db43c41ab9b8750de39a48b70",
            "placeholder": "​",
            "style": "IPY_MODEL_7e9d0201828e4bf1bfba36264b157b26",
            "value": "100%"
          }
        },
        "a5f2b48f79f4495b8f34b667fadfa666": {
          "model_module": "@jupyter-widgets/controls",
          "model_name": "FloatProgressModel",
          "model_module_version": "1.5.0",
          "state": {
            "_dom_classes": [],
            "_model_module": "@jupyter-widgets/controls",
            "_model_module_version": "1.5.0",
            "_model_name": "FloatProgressModel",
            "_view_count": null,
            "_view_module": "@jupyter-widgets/controls",
            "_view_module_version": "1.5.0",
            "_view_name": "ProgressView",
            "bar_style": "success",
            "description": "",
            "description_tooltip": null,
            "layout": "IPY_MODEL_ccb70346d5a8479888873af4f9a5a016",
            "max": 169001437,
            "min": 0,
            "orientation": "horizontal",
            "style": "IPY_MODEL_65b923917ef94e039432858f15304b8b",
            "value": 169001437
          }
        },
        "64ac5fc535dd49f3aadd869b07667c00": {
          "model_module": "@jupyter-widgets/controls",
          "model_name": "HTMLModel",
          "model_module_version": "1.5.0",
          "state": {
            "_dom_classes": [],
            "_model_module": "@jupyter-widgets/controls",
            "_model_module_version": "1.5.0",
            "_model_name": "HTMLModel",
            "_view_count": null,
            "_view_module": "@jupyter-widgets/controls",
            "_view_module_version": "1.5.0",
            "_view_name": "HTMLView",
            "description": "",
            "description_tooltip": null,
            "layout": "IPY_MODEL_d45ee328b2f5431a9c4d3ba11c87b5d0",
            "placeholder": "​",
            "style": "IPY_MODEL_a337dbc4777b4eaf9dd463f668c73e9e",
            "value": " 169001437/169001437 [00:13&lt;00:00, 14708952.77it/s]"
          }
        },
        "7633f9d90dfc4cabb952ea9555e7e79f": {
          "model_module": "@jupyter-widgets/base",
          "model_name": "LayoutModel",
          "model_module_version": "1.2.0",
          "state": {
            "_model_module": "@jupyter-widgets/base",
            "_model_module_version": "1.2.0",
            "_model_name": "LayoutModel",
            "_view_count": null,
            "_view_module": "@jupyter-widgets/base",
            "_view_module_version": "1.2.0",
            "_view_name": "LayoutView",
            "align_content": null,
            "align_items": null,
            "align_self": null,
            "border": null,
            "bottom": null,
            "display": null,
            "flex": null,
            "flex_flow": null,
            "grid_area": null,
            "grid_auto_columns": null,
            "grid_auto_flow": null,
            "grid_auto_rows": null,
            "grid_column": null,
            "grid_gap": null,
            "grid_row": null,
            "grid_template_areas": null,
            "grid_template_columns": null,
            "grid_template_rows": null,
            "height": null,
            "justify_content": null,
            "justify_items": null,
            "left": null,
            "margin": null,
            "max_height": null,
            "max_width": null,
            "min_height": null,
            "min_width": null,
            "object_fit": null,
            "object_position": null,
            "order": null,
            "overflow": null,
            "overflow_x": null,
            "overflow_y": null,
            "padding": null,
            "right": null,
            "top": null,
            "visibility": null,
            "width": null
          }
        },
        "69a2939db43c41ab9b8750de39a48b70": {
          "model_module": "@jupyter-widgets/base",
          "model_name": "LayoutModel",
          "model_module_version": "1.2.0",
          "state": {
            "_model_module": "@jupyter-widgets/base",
            "_model_module_version": "1.2.0",
            "_model_name": "LayoutModel",
            "_view_count": null,
            "_view_module": "@jupyter-widgets/base",
            "_view_module_version": "1.2.0",
            "_view_name": "LayoutView",
            "align_content": null,
            "align_items": null,
            "align_self": null,
            "border": null,
            "bottom": null,
            "display": null,
            "flex": null,
            "flex_flow": null,
            "grid_area": null,
            "grid_auto_columns": null,
            "grid_auto_flow": null,
            "grid_auto_rows": null,
            "grid_column": null,
            "grid_gap": null,
            "grid_row": null,
            "grid_template_areas": null,
            "grid_template_columns": null,
            "grid_template_rows": null,
            "height": null,
            "justify_content": null,
            "justify_items": null,
            "left": null,
            "margin": null,
            "max_height": null,
            "max_width": null,
            "min_height": null,
            "min_width": null,
            "object_fit": null,
            "object_position": null,
            "order": null,
            "overflow": null,
            "overflow_x": null,
            "overflow_y": null,
            "padding": null,
            "right": null,
            "top": null,
            "visibility": null,
            "width": null
          }
        },
        "7e9d0201828e4bf1bfba36264b157b26": {
          "model_module": "@jupyter-widgets/controls",
          "model_name": "DescriptionStyleModel",
          "model_module_version": "1.5.0",
          "state": {
            "_model_module": "@jupyter-widgets/controls",
            "_model_module_version": "1.5.0",
            "_model_name": "DescriptionStyleModel",
            "_view_count": null,
            "_view_module": "@jupyter-widgets/base",
            "_view_module_version": "1.2.0",
            "_view_name": "StyleView",
            "description_width": ""
          }
        },
        "ccb70346d5a8479888873af4f9a5a016": {
          "model_module": "@jupyter-widgets/base",
          "model_name": "LayoutModel",
          "model_module_version": "1.2.0",
          "state": {
            "_model_module": "@jupyter-widgets/base",
            "_model_module_version": "1.2.0",
            "_model_name": "LayoutModel",
            "_view_count": null,
            "_view_module": "@jupyter-widgets/base",
            "_view_module_version": "1.2.0",
            "_view_name": "LayoutView",
            "align_content": null,
            "align_items": null,
            "align_self": null,
            "border": null,
            "bottom": null,
            "display": null,
            "flex": null,
            "flex_flow": null,
            "grid_area": null,
            "grid_auto_columns": null,
            "grid_auto_flow": null,
            "grid_auto_rows": null,
            "grid_column": null,
            "grid_gap": null,
            "grid_row": null,
            "grid_template_areas": null,
            "grid_template_columns": null,
            "grid_template_rows": null,
            "height": null,
            "justify_content": null,
            "justify_items": null,
            "left": null,
            "margin": null,
            "max_height": null,
            "max_width": null,
            "min_height": null,
            "min_width": null,
            "object_fit": null,
            "object_position": null,
            "order": null,
            "overflow": null,
            "overflow_x": null,
            "overflow_y": null,
            "padding": null,
            "right": null,
            "top": null,
            "visibility": null,
            "width": null
          }
        },
        "65b923917ef94e039432858f15304b8b": {
          "model_module": "@jupyter-widgets/controls",
          "model_name": "ProgressStyleModel",
          "model_module_version": "1.5.0",
          "state": {
            "_model_module": "@jupyter-widgets/controls",
            "_model_module_version": "1.5.0",
            "_model_name": "ProgressStyleModel",
            "_view_count": null,
            "_view_module": "@jupyter-widgets/base",
            "_view_module_version": "1.2.0",
            "_view_name": "StyleView",
            "bar_color": null,
            "description_width": ""
          }
        },
        "d45ee328b2f5431a9c4d3ba11c87b5d0": {
          "model_module": "@jupyter-widgets/base",
          "model_name": "LayoutModel",
          "model_module_version": "1.2.0",
          "state": {
            "_model_module": "@jupyter-widgets/base",
            "_model_module_version": "1.2.0",
            "_model_name": "LayoutModel",
            "_view_count": null,
            "_view_module": "@jupyter-widgets/base",
            "_view_module_version": "1.2.0",
            "_view_name": "LayoutView",
            "align_content": null,
            "align_items": null,
            "align_self": null,
            "border": null,
            "bottom": null,
            "display": null,
            "flex": null,
            "flex_flow": null,
            "grid_area": null,
            "grid_auto_columns": null,
            "grid_auto_flow": null,
            "grid_auto_rows": null,
            "grid_column": null,
            "grid_gap": null,
            "grid_row": null,
            "grid_template_areas": null,
            "grid_template_columns": null,
            "grid_template_rows": null,
            "height": null,
            "justify_content": null,
            "justify_items": null,
            "left": null,
            "margin": null,
            "max_height": null,
            "max_width": null,
            "min_height": null,
            "min_width": null,
            "object_fit": null,
            "object_position": null,
            "order": null,
            "overflow": null,
            "overflow_x": null,
            "overflow_y": null,
            "padding": null,
            "right": null,
            "top": null,
            "visibility": null,
            "width": null
          }
        },
        "a337dbc4777b4eaf9dd463f668c73e9e": {
          "model_module": "@jupyter-widgets/controls",
          "model_name": "DescriptionStyleModel",
          "model_module_version": "1.5.0",
          "state": {
            "_model_module": "@jupyter-widgets/controls",
            "_model_module_version": "1.5.0",
            "_model_name": "DescriptionStyleModel",
            "_view_count": null,
            "_view_module": "@jupyter-widgets/base",
            "_view_module_version": "1.2.0",
            "_view_name": "StyleView",
            "description_width": ""
          }
        }
      }
    }
  },
  "cells": [
    {
      "cell_type": "code",
      "execution_count": null,
      "metadata": {
        "id": "j2UlfLPVxNK6",
        "colab": {
          "base_uri": "https://localhost:8080/"
        },
        "outputId": "86bd8b36-9864-4bb1-ece1-ed9bb3c21776"
      },
      "outputs": [
        {
          "output_type": "stream",
          "name": "stdout",
          "text": [
            "Looking in indexes: https://pypi.org/simple, https://us-python.pkg.dev/colab-wheels/public/simple/\n",
            "Collecting torchmetrics\n",
            "  Downloading torchmetrics-0.9.3-py3-none-any.whl (419 kB)\n",
            "\u001b[K     |████████████████████████████████| 419 kB 16.9 MB/s \n",
            "\u001b[?25hRequirement already satisfied: packaging in /usr/local/lib/python3.7/dist-packages (from torchmetrics) (21.3)\n",
            "Requirement already satisfied: typing-extensions in /usr/local/lib/python3.7/dist-packages (from torchmetrics) (4.1.1)\n",
            "Requirement already satisfied: torch>=1.3.1 in /usr/local/lib/python3.7/dist-packages (from torchmetrics) (1.12.0+cu113)\n",
            "Requirement already satisfied: numpy>=1.17.2 in /usr/local/lib/python3.7/dist-packages (from torchmetrics) (1.21.6)\n",
            "Requirement already satisfied: pyparsing!=3.0.5,>=2.0.2 in /usr/local/lib/python3.7/dist-packages (from packaging->torchmetrics) (3.0.9)\n",
            "Installing collected packages: torchmetrics\n",
            "Successfully installed torchmetrics-0.9.3\n"
          ]
        }
      ],
      "source": [
        "############ Necessary labraries#############\n",
        "import numpy as np\n",
        "import tensorflow as tf\n",
        "import matplotlib.pyplot as plt\n",
        "import torch\n",
        "import torch.nn.functional as F\n",
        "from torch import nn\n",
        "from torch.utils.data import DataLoader,Dataset\n",
        "from torchvision.datasets import CIFAR100\n",
        "from torchvision import transforms\n",
        "from time import time\n",
        "from skimage.data import astronaut,rocket\n",
        "from skimage.metrics import structural_similarity\n",
        "from torch.nn.modules.pooling import MaxPool2d\n",
        "from torchviz import make_dot\n",
        "device = ('cuda' if torch.cuda.is_available() else 'cpu')\n",
        "!pip install torchmetrics\n",
        "from torchmetrics import StructuralSimilarityIndexMeasure"
      ]
    },
    {
      "cell_type": "code",
      "source": [
        "############ Required transformations on dataset #############\n",
        "mytransforms = transforms.Compose([\n",
        "                                   transforms.ToTensor()])"
      ],
      "metadata": {
        "id": "78gPI0vtxZj1"
      },
      "execution_count": null,
      "outputs": []
    },
    {
      "cell_type": "code",
      "source": [
        "############ Downloading Dataset #############\n",
        "train_data = CIFAR100('./data', download = True, train = True, transform=mytransforms)\n",
        "test_data  = CIFAR100('./data', download = False, train = False, transform=mytransforms)"
      ],
      "metadata": {
        "colab": {
          "base_uri": "https://localhost:8080/",
          "height": 84,
          "referenced_widgets": [
            "ac2582db4e5648199002d72a716aa5f0",
            "72c8598261ca4549840ca650df00c567",
            "a5f2b48f79f4495b8f34b667fadfa666",
            "64ac5fc535dd49f3aadd869b07667c00",
            "7633f9d90dfc4cabb952ea9555e7e79f",
            "69a2939db43c41ab9b8750de39a48b70",
            "7e9d0201828e4bf1bfba36264b157b26",
            "ccb70346d5a8479888873af4f9a5a016",
            "65b923917ef94e039432858f15304b8b",
            "d45ee328b2f5431a9c4d3ba11c87b5d0",
            "a337dbc4777b4eaf9dd463f668c73e9e"
          ]
        },
        "id": "ZgAzmiVGxdP4",
        "outputId": "a7f8c7a7-84d4-4da3-871f-cefa12b4505f"
      },
      "execution_count": null,
      "outputs": [
        {
          "output_type": "stream",
          "name": "stdout",
          "text": [
            "Downloading https://www.cs.toronto.edu/~kriz/cifar-100-python.tar.gz to ./data/cifar-100-python.tar.gz\n"
          ]
        },
        {
          "output_type": "display_data",
          "data": {
            "text/plain": [
              "  0%|          | 0/169001437 [00:00<?, ?it/s]"
            ],
            "application/vnd.jupyter.widget-view+json": {
              "version_major": 2,
              "version_minor": 0,
              "model_id": "ac2582db4e5648199002d72a716aa5f0"
            }
          },
          "metadata": {}
        },
        {
          "output_type": "stream",
          "name": "stdout",
          "text": [
            "Extracting ./data/cifar-100-python.tar.gz to ./data\n"
          ]
        }
      ]
    },
    {
      "cell_type": "code",
      "source": [
        "print(train_data)"
      ],
      "metadata": {
        "colab": {
          "base_uri": "https://localhost:8080/"
        },
        "id": "HP2m2xz9kzXt",
        "outputId": "feab83e5-d6b8-46ab-9458-12ea95a1e1ad"
      },
      "execution_count": null,
      "outputs": [
        {
          "output_type": "stream",
          "name": "stdout",
          "text": [
            "Dataset CIFAR100\n",
            "    Number of datapoints: 50000\n",
            "    Root location: ./data\n",
            "    Split: Train\n",
            "    StandardTransform\n",
            "Transform: Compose(\n",
            "               ToTensor()\n",
            "           )\n"
          ]
        }
      ]
    },
    {
      "cell_type": "code",
      "source": [
        "############ Providing Dataloaders for train and test data #############\n",
        "train_loader = DataLoader(train_data, batch_size = 16, num_workers = 1)\n",
        "test_loader = DataLoader(test_data, batch_size = 16, num_workers = 1)"
      ],
      "metadata": {
        "id": "6CnC9L3IxgcX"
      },
      "execution_count": null,
      "outputs": []
    },
    {
      "cell_type": "code",
      "source": [
        "############ Defining classes which are used in Network #############\n",
        "\n",
        "############ DenseNet is composed of Single layers  #############\n",
        "class SingleLayer(nn.Module):\n",
        "    def __init__(self, nChannels, growthRate):\n",
        "        super(SingleLayer, self).__init__()\n",
        "        self.bn     = nn.BatchNorm2d(nChannels)\n",
        "        self.conv   = nn.Conv2d(nChannels, growthRate, kernel_size=3,padding=1, bias=False)\n",
        "        self.relu   = nn.ReLU()\n",
        "        self.dropout = nn.Dropout2d(0.2)\n",
        "\n",
        "    def forward(self, x):\n",
        "        out = self.bn(x)\n",
        "        out = self.conv(out)\n",
        "        out = self.relu(out)\n",
        "        out = self.dropout(out)\n",
        "        out = torch.cat((x, out), 1)\n",
        "        return out\n",
        "        \n",
        "####################################################################################################\n",
        "\n",
        "############ DenseNet is made by choosing number of layers and growth rate which is a constant output of each layer  #############\n",
        "\n",
        "class DenseNet(nn.Module):\n",
        "  def __init__(self, nChannels, growthRate, nDenseBlocks):\n",
        "    super(DenseNet,self).__init__()\n",
        "    self.dense = self.make_dense(nChannels, growthRate, nDenseBlocks)\n",
        "  \n",
        "  def make_dense(self, nChannels, growthRate, nDenseBlocks):\n",
        "    layers = []\n",
        "    for i in range(int(nDenseBlocks)):\n",
        "        layers.append(SingleLayer(nChannels, growthRate))\n",
        "        nChannels += growthRate\n",
        "    return nn.Sequential(*layers)  \n",
        "\n",
        "  def forward(self,x):\n",
        "    out = self.dense(x)\n",
        "    return out\n",
        "\n",
        "\n",
        "####################################################################################################\n",
        "\n",
        "############ Transition down layer is used to reduce the number of feature maps  #############\n",
        "class Transition_Down(nn.Module): \n",
        "  def __init__(self, input_channels,output_channels):\n",
        "    super(Transition_Down, self).__init__()\n",
        "    self.TD = nn.Sequential(nn.BatchNorm2d(input_channels),\n",
        "                            nn.ReLU(),\n",
        "                            nn.Conv2d(input_channels,output_channels,kernel_size=1,padding ='same'),\n",
        "                            nn.MaxPool2d(kernel_size=2,stride=2))\n",
        "    \n",
        "  def forward(self,x):\n",
        "    out = self.TD(x)\n",
        "    return out  \n",
        "    \n",
        "####################################################################################################\n",
        "\n",
        "############ Transition up layer is used to compensate the effect of transtion down layer which has reduce nemuber of feature maps  #############\n",
        "class Transition_Up(nn.Module): \n",
        "  def __init__(self, input_channels,output_channels):\n",
        "    super(Transition_Up, self).__init__()\n",
        "    self.TU = nn.ConvTranspose2d(input_channels,output_channels, kernel_size=2, stride=2 , padding=0)\n",
        "    \n",
        "  def forward(self,x):\n",
        "    out = self.TU(x)\n",
        "    return out  \n",
        "    \n",
        "####################################################################################################\n",
        "\n",
        "############ Decoder block is used in reveal network ro extract secret image #############\n",
        "class Decoder_block(nn.Module): \n",
        "  def __init__(self, input_channels , output_channels):\n",
        "    super(Decoder_block, self).__init__()\n",
        "    self.DB = nn.Sequential(nn.Conv2d(input_channels , output_channels , kernel_size=3 , padding =1 ,stride=1),\n",
        "                            nn.BatchNorm2d(output_channels),\n",
        "                            nn.ReLU())\n",
        "    \n",
        "  def forward(self,x):\n",
        "    out = self.DB(x)\n",
        "    return out      \n",
        "    "
      ],
      "metadata": {
        "id": "FhlU44oPxjX5"
      },
      "execution_count": null,
      "outputs": []
    },
    {
      "cell_type": "code",
      "source": [
        "############ Defining Hidden Network by using the classes which are defined previously #############\n",
        "class Hidden_Network(nn.Module):\n",
        "  def __init__(self):\n",
        "    super(Hidden_Network,self).__init__()\n",
        "    self.conv1 = nn.Conv2d( 6, 48, kernel_size = 3 , padding = 'same')\n",
        "    self.DB1   = DenseNet (48,12,4)\n",
        "    self.TD1   = Transition_Down(144,96)\n",
        "    self.DB2   = DenseNet (96,12,4)\n",
        "    self.TD2   = Transition_Down(240,144)\n",
        "    self.DB3   = DenseNet (144,12,4)\n",
        "    self.TD3   = Transition_Down(336,192)\n",
        "    self.DB4   = DenseNet (192,12,4)\n",
        "    self.TU1   = Transition_Up (240,60)\n",
        "    self.DB5   = DenseNet (396,12,4)\n",
        "    self.TU2   = Transition_Up (444,100)\n",
        "    self.DB6   = DenseNet (340,12,4)\n",
        "    self.TU3   = Transition_Up (388,88)\n",
        "    self.DB7   = DenseNet (232,12,4)\n",
        "    self.conv2 = nn.Conv2d( 280, 3, kernel_size = 3 , padding = 'same')\n",
        "  def forward(self, input):\n",
        "    y   = self.conv1(input)\n",
        "    DB1 = self.DB1(y)\n",
        "    C1  = torch.cat((y, DB1), 1)\n",
        "    TD1 = self.TD1(C1)\n",
        "    DB2 = self.DB2(TD1)\n",
        "    C2  = torch.cat((DB2, TD1), 1)\n",
        "    TD2 = self.TD2(C2)\n",
        "    DB3 = self.DB3(TD2)\n",
        "    C3  = torch.cat((DB3, TD2), 1)\n",
        "    TD3 = self.TD3(C3)\n",
        "    DB4 = self.DB4(TD3)\n",
        "    TU1 = self.TU1(DB4)\n",
        "    C4  = torch.cat((TU1, C3), 1)\n",
        "    DB5 = self.DB5(C4)\n",
        "    TU2 = self.TU2(DB5)\n",
        "    C5  = torch.cat((TU2, C2), 1)\n",
        "    DB6 = self.DB6(C5)\n",
        "    TU3 = self.TU3(DB6)\n",
        "    C6  = torch.cat((TU3, C1), 1)\n",
        "    DB7 = self.DB7(C6)\n",
        "    output = self.conv2(DB7)\n",
        "    return output"
      ],
      "metadata": {
        "id": "jcF4T8nuxog8"
      },
      "execution_count": null,
      "outputs": []
    },
    {
      "cell_type": "code",
      "source": [
        "########## Testing the Hidden Network ###########\n",
        "a = torch.rand(2,6,32,32)\n",
        "Hidden_Network().forward(a).shape"
      ],
      "metadata": {
        "colab": {
          "base_uri": "https://localhost:8080/"
        },
        "id": "NuKiK1V7dWdt",
        "outputId": "51e4add4-4a8c-4b82-a2e9-f896a4a3a291"
      },
      "execution_count": null,
      "outputs": [
        {
          "output_type": "execute_result",
          "data": {
            "text/plain": [
              "torch.Size([2, 3, 32, 32])"
            ]
          },
          "metadata": {},
          "execution_count": 9
        }
      ]
    },
    {
      "cell_type": "code",
      "source": [
        "############ Defining Reveal Network by using the classes which are defined previously #############\n",
        "\n",
        "class Reveal_Network(nn.Module):\n",
        "\n",
        "  def __init__(self):\n",
        "    super(Reveal_Network,self).__init__()\n",
        "    self.Decoder1 = Decoder_block(3,32)\n",
        "    self.Decoder2 = Decoder_block(32,64)\n",
        "    self.Decoder3 = Decoder_block(64,128)\n",
        "    self.Decoder4 = Decoder_block(128,256)\n",
        "    self.Decoder5 = Decoder_block(256,128)\n",
        "    self.Decoder6 = Decoder_block(128,64)\n",
        "    self.Decoder7 = Decoder_block(64,32)\n",
        "    self.conv1    = nn.Conv2d( 32 , 3 , kernel_size=3 , padding =1 ,stride=1)\n",
        "    self.sigmo    = nn.Sigmoid()\n",
        "\n",
        "  def forward(self, input):\n",
        "    Decoder1  = self.Decoder1(input)\n",
        "    Decoder2  = self.Decoder2(Decoder1)\n",
        "    Decoder3  = self.Decoder3(Decoder2)\n",
        "    Decoder4  = self.Decoder4(Decoder3)\n",
        "    Decoder5  = self.Decoder5(Decoder4)\n",
        "    Decoder6  = self.Decoder6(Decoder5)\n",
        "    Decoder7  = self.Decoder7(Decoder6)\n",
        "    output    = self.sigmo(self.conv1(Decoder7))\n",
        "    return output"
      ],
      "metadata": {
        "id": "YUG1dbHXxsIe"
      },
      "execution_count": null,
      "outputs": []
    },
    {
      "cell_type": "code",
      "source": [
        "########## Testing the Reveal Network ###########\n",
        "a = torch.rand(1,3,256,256)\n",
        "Reveal_Network().forward(a).shape"
      ],
      "metadata": {
        "colab": {
          "base_uri": "https://localhost:8080/"
        },
        "id": "DtmtbJV13BKn",
        "outputId": "8b4c0735-3bc6-480c-a632-f9ee1b0258a5"
      },
      "execution_count": null,
      "outputs": [
        {
          "output_type": "execute_result",
          "data": {
            "text/plain": [
              "torch.Size([1, 3, 256, 256])"
            ]
          },
          "metadata": {},
          "execution_count": 10
        }
      ]
    },
    {
      "cell_type": "code",
      "source": [
        "########## Defining Stegano Network which is the complete architecture###########\n",
        "class Stegano_Network(nn.Module):\n",
        "\n",
        "  def __init__(self):\n",
        "    super(Stegano_Network,self).__init__()\n",
        "    self.hidden=Hidden_Network()\n",
        "    self.reveal=Reveal_Network()\n",
        "  def forward(self, input):\n",
        "    Stego = self.hidden(input)\n",
        "    revealed_image = self.reveal(Stego)\n",
        "    \n",
        "    return Stego,revealed_image"
      ],
      "metadata": {
        "id": "18XtyMHwxuKZ"
      },
      "execution_count": null,
      "outputs": []
    },
    {
      "cell_type": "code",
      "source": [
        "########## Defining Loss Function classes for each network ###########\n",
        "########## we used one of quatative evaluation methods (Mean Square Error) to for the loss function ###########\n",
        "class EncoderLoss(nn.Module):\n",
        "  def __init__(self):\n",
        "      super(EncoderLoss,self).__init__()\n",
        "        \n",
        "  def forward(self,carrier_image,stego_image):    \n",
        "      encoder_loss = (F.mse_loss(carrier_image,stego_image))\n",
        "      return encoder_loss\n",
        "\n",
        "class DecoderLoss(nn.Module):\n",
        "  def __init__(self):\n",
        "      super(DecoderLoss,self).__init__()\n",
        "        \n",
        "  def forward(self,revealed_image,secret_image):\n",
        "      decoder_loss = (F.mse_loss(revealed_image,secret_image))\n",
        "      return decoder_loss\n",
        "class SteganoLoss(nn.Module):\n",
        "  def __init__(self,decoder_weight):\n",
        "      super(SteganoLoss,self).__init__()\n",
        "      self.decoder_weight = decoder_weight\n",
        "        \n",
        "  def forward(self,carrier_image,stego_image,revealed_image,secret_image):\n",
        "      stegano_loss = (F.mse_loss(carrier_image,stego_image)) + (self.decoder_weight*(F.mse_loss(revealed_image,secret_image)))\n",
        "      return stegano_loss     \n"
      ],
      "metadata": {
        "id": "RNloRg9dxvfG"
      },
      "execution_count": null,
      "outputs": []
    },
    {
      "cell_type": "code",
      "source": [
        "mymodel= Stegano_Network()"
      ],
      "metadata": {
        "id": "iAg_vZ7Gxx0v"
      },
      "execution_count": null,
      "outputs": []
    },
    {
      "cell_type": "code",
      "source": [
        "########## Transfering model to GPU ###########\n",
        "mymodel= Stegano_Network().to(device)\n",
        "Hidden_network= Hidden_Network().to(device)\n",
        "# Reveal_network= Reveal_Network().to(device)\n",
        "\n",
        "'''\n",
        " DO NOT run this block \n",
        "'''\n",
        "########## Traning loops ###########\n",
        "\n",
        "epochs = 2    \n",
        "'''\n",
        " The numbers of epochs is small because our dataser has 50000 images so in each epoch our network will be trained by 50000 images, \n",
        " consequently our network will be saturated very soon so this number of epochs is enough \n",
        "'''\n",
        "batch_size=16\n",
        "beta = 0.75\n",
        "criterion_encoder=EncoderLoss()\n",
        "criterion_decoder=DecoderLoss()\n",
        "criterion = SteganoLoss(beta)   # 0.75 is beta hyperparamete in the paper\n",
        "opt_hidden = torch.optim.Adam(Hidden_network.parameters())\n",
        "opt_stegano = torch.optim.Adam(mymodel.parameters())\n",
        "\n",
        "encoder_losses   = [] # hidden Losses in different epochs\n",
        "decoder_losses   = [] # reveal Losses in different epochs\n",
        "losses           = [] # whole network Losses in different epochs\n",
        "val_losses       = [] # whole network validation losses in different epochs\n",
        "# carrier=[]\n",
        "# secret=[]\n",
        "\n",
        "for epoch in range(epochs):\n",
        "  for batch_i, (inputs, _) in enumerate(train_loader):\n",
        "    tic = time() # Start of epoch\n",
        "    # Train Hidden\n",
        "    Hidden_network = Hidden_network.train()\n",
        "    \n",
        "    batch_losses = []\n",
        "    encoder_batch_losses = []\n",
        "    decoder_batch_losses = []\n",
        "    inputs = inputs.to(device) # Images\n",
        "    size=inputs.size()\n",
        "    carrier=torch.empty(int(batch_size/2),size[1],size[2],size[3])\n",
        "    secret=torch.empty(int(batch_size/2),size[1],size[2],size[3])\n",
        "    concatenated_input=torch.empty(int(batch_size/2),2*size[1],size[2],size[3])\n",
        "    j=0\n",
        "    z=0\n",
        "    for i in range(len(inputs)):\n",
        "      if i%2 == 0 : \n",
        "        carrier[j]=inputs[i]\n",
        "        j=j+1\n",
        "      else :\n",
        "        secret[z]=inputs[i]\n",
        "        concatenated_input[z] = torch.cat((carrier[j-1],secret[z]),0)\n",
        "        z=z+1\n",
        "\n",
        "    concatenated_input = concatenated_input.to(device)\n",
        "    carrier=carrier.to(device)\n",
        "    secret=secret.to(device)\n",
        "    \n",
        "    Stego_image = Hidden_network.forward(concatenated_input)\n",
        "    # encoder_loss=criterion_encoder(carrier,Stego_image)\n",
        "    # decoder_loss=criterion_decoder(revealed_image,secret)\n",
        "    opt_hidden.zero_grad()\n",
        "    opt_stegano.zero_grad()\n",
        "    loss = criterion_encoder.forward(carrier,Stego_image)\n",
        "    loss.backward()\n",
        "    opt_hidden.step()\n",
        "\n",
        "    \"\"\" ---------------------------------------------------------------------------\"\"\"\n",
        "\n",
        "    ##### train stegano\n",
        "    mymodel = mymodel.train()\n",
        "\n",
        "    Stego_image,revealed_image = mymodel.forward(concatenated_input)\n",
        "    encoder_loss=criterion_encoder(carrier,Stego_image)\n",
        "    decoder_loss=criterion_decoder(revealed_image,secret)\n",
        "    opt_stegano.zero_grad()\n",
        "    opt_hidden.zero_grad()\n",
        "    loss = criterion_decoder.forward(secret,revealed_image)\n",
        "    loss.backward()\n",
        "    opt_stegano.step()\n",
        "\n",
        "    # batch_losses.append(loss.item())\n",
        "    encoder_batch_losses.append(encoder_loss.item())\n",
        "    decoder_batch_losses.append(decoder_loss.item())\n",
        "    train_string1 = f\"information of each batch : batch : {batch_i}  // encoder_loss : {encoder_loss.item(): 0.7f} // decoder_loss : {decoder_loss.item(): 0.7f} \"\n",
        "    if batch_i%125 == 0 :\n",
        "      print(train_string1)    \n",
        "    \n",
        "\n",
        "\n",
        "  # epoch_loss = np.mean(batch_losses)\n",
        "  encoder_epoch_loss = np.mean(encoder_batch_losses)\n",
        "  decoder_epoch_loss = np.mean(decoder_batch_losses)\n",
        "  # losses.append(epoch_loss)\n",
        "  train_string2 = f\"information of each epoch: Epoch : {epoch} // encoder_loss : {encoder_epoch_loss: 0.7f} // decoder_loss : {decoder_epoch_loss: 0.7f} \"\n",
        "  print(train_string2)\n",
        "      \n",
        "    \n"
      ],
      "metadata": {
        "id": "u3SR1MsmC_c5"
      },
      "execution_count": null,
      "outputs": []
    },
    {
      "cell_type": "code",
      "source": [
        "# ########## Transfering model to GPU ###########\n",
        "# # mymodel= Stegano_Network().to(device)\n",
        "# Encoder_network= Hidden_Network().to(device)\n",
        "# Reveal_network= Reveal_Network().to(device)\n",
        "\n",
        "# '''\n",
        "#  DO NOT run this block \n",
        "# '''\n",
        "# ########## Traning loops ###########\n",
        "\n",
        "# epochs = 2    \n",
        "# '''\n",
        "#  The numbers of epochs is small because our dataser has 50000 images so in each epoch our network will be trained by 50000 images, \n",
        "#  consequently our network will be saturated very soon so this number of epochs is enough \n",
        "# '''\n",
        "# batch_size=16\n",
        "# beta = 0.75\n",
        "# criterion_encoder=EncoderLoss()\n",
        "# criterion_decoder=DecoderLoss()\n",
        "# criterion = SteganoLoss(beta)   # 0.75 is beta hyperparamete in the paper\n",
        "# opt = torch.optim.Adam(mymodel.parameters())\n",
        "\n",
        "# encoder_losses   = [] # hidden Losses in different epochs\n",
        "# decoder_losses   = [] # reveal Losses in different epochs\n",
        "# losses           = [] # whole network Losses in different epochs\n",
        "# val_losses       = [] # whole network validation losses in different epochs\n",
        "# # carrier=[]\n",
        "# # secret=[]\n",
        "\n",
        "# for epoch in range(epochs):\n",
        "#   for batch_i, (inputs, _) in enumerate(train_loader):\n",
        "#     tic = time() # Start of epoch\n",
        "#     # Train\n",
        "#     mymodel = mymodel.train()\n",
        "#     batch_losses = []\n",
        "#     encoder_batch_losses = []\n",
        "#     decoder_batch_losses = []\n",
        "#     inputs = inputs.to(device) # Images\n",
        "#     size=inputs.size()\n",
        "#     carrier=torch.empty(int(batch_size/2),size[1],size[2],size[3])\n",
        "#     secret=torch.empty(int(batch_size/2),size[1],size[2],size[3])\n",
        "#     concatenated_input=torch.empty(int(batch_size/2),2*size[1],size[2],size[3])\n",
        "#     j=0\n",
        "#     z=0\n",
        "#     for i in range(len(inputs)):\n",
        "#       if i%2 == 0 : \n",
        "#         carrier[j]=inputs[i]\n",
        "#         j=j+1\n",
        "#       else :\n",
        "#         secret[z]=inputs[i]\n",
        "#         concatenated_input[z] = torch.cat((carrier[j-1],secret[z]),0)\n",
        "#         z=z+1\n",
        "\n",
        "#     concatenated_input = concatenated_input.to(device)\n",
        "#     carrier=carrier.to(device)\n",
        "#     secret=secret.to(device)\n",
        "    \n",
        "#     Stego_image,revealed_image = mymodel.forward(concatenated_input)\n",
        "#     encoder_loss=criterion_encoder(carrier,Stego_image)\n",
        "#     decoder_loss=criterion_decoder(revealed_image,secret)\n",
        "#     opt.zero_grad()\n",
        "#     loss = criterion.forward(Stego_image, carrier,revealed_image,secret)\n",
        "#     loss.backward()\n",
        "#     opt.step()\n",
        "#     batch_losses.append(loss.item())\n",
        "#     encoder_batch_losses.append(encoder_loss.item())\n",
        "#     decoder_batch_losses.append(decoder_loss.item())\n",
        "#     train_string1 = f\"information of each batch : batch : {batch_i} // batch_loss : {loss.item(): 0.7f} // encoder_loss : {encoder_loss.item(): 0.7f} // decoder_loss : {decoder_loss.item(): 0.7f} \"\n",
        "#     if batch_i%250 == 0 :\n",
        "#       print(train_string1)    \n",
        "    \n",
        "#   epoch_loss = np.mean(batch_losses)\n",
        "#   encoder_epoch_loss = np.mean(encoder_batch_losses)\n",
        "#   decoder_epoch_loss = np.mean(decoder_batch_losses)\n",
        "#   losses.append(epoch_loss)\n",
        "#   train_string2 = f\"information of each epoch: Epoch : {epoch} // loss : {epoch_loss: 0.7f} // encoder_loss : {encoder_epoch_loss: 0.7f} // decoder_loss : {decoder_epoch_loss: 0.7f} \"\n",
        "#   print(train_string2)\n",
        "      \n",
        "    \n"
      ],
      "metadata": {
        "colab": {
          "base_uri": "https://localhost:8080/"
        },
        "id": "w7jhpMF7x3h1",
        "outputId": "7efe6c9f-04bf-48bd-f47c-b74fd1ed3bfd"
      },
      "execution_count": null,
      "outputs": [
        {
          "output_type": "stream",
          "name": "stdout",
          "text": [
            "information of each batch : batch : 0 // batch_loss :  0.3171353 // encoder_loss :  0.2353534 // decoder_loss :  0.1090426 \n",
            "information of each batch : batch : 250 // batch_loss :  0.0180213 // encoder_loss :  0.0062312 // decoder_loss :  0.0157201 \n",
            "information of each batch : batch : 500 // batch_loss :  0.0200525 // encoder_loss :  0.0036138 // decoder_loss :  0.0219183 \n",
            "information of each batch : batch : 750 // batch_loss :  0.0123133 // encoder_loss :  0.0030641 // decoder_loss :  0.0123323 \n",
            "information of each batch : batch : 1000 // batch_loss :  0.0151584 // encoder_loss :  0.0028590 // decoder_loss :  0.0163992 \n",
            "information of each batch : batch : 1250 // batch_loss :  0.0073322 // encoder_loss :  0.0025683 // decoder_loss :  0.0063519 \n",
            "information of each batch : batch : 1500 // batch_loss :  0.0079527 // encoder_loss :  0.0029466 // decoder_loss :  0.0066748 \n",
            "information of each batch : batch : 1750 // batch_loss :  0.0058616 // encoder_loss :  0.0023502 // decoder_loss :  0.0046818 \n",
            "information of each batch : batch : 2000 // batch_loss :  0.0125036 // encoder_loss :  0.0052580 // decoder_loss :  0.0096608 \n",
            "information of each batch : batch : 2250 // batch_loss :  0.0110631 // encoder_loss :  0.0031014 // decoder_loss :  0.0106156 \n",
            "information of each batch : batch : 2500 // batch_loss :  0.0131377 // encoder_loss :  0.0031770 // decoder_loss :  0.0132810 \n",
            "information of each batch : batch : 2750 // batch_loss :  0.0085291 // encoder_loss :  0.0030431 // decoder_loss :  0.0073148 \n",
            "information of each batch : batch : 3000 // batch_loss :  0.0053948 // encoder_loss :  0.0015154 // decoder_loss :  0.0051726 \n",
            "information of each epoch: Epoch : 0 // loss :  0.0123753 // encoder_loss :  0.0024738 // decoder_loss :  0.0132020 \n",
            "information of each batch : batch : 0 // batch_loss :  0.0151641 // encoder_loss :  0.0046931 // decoder_loss :  0.0139613 \n",
            "information of each batch : batch : 250 // batch_loss :  0.0110672 // encoder_loss :  0.0049102 // decoder_loss :  0.0082092 \n",
            "information of each batch : batch : 500 // batch_loss :  0.0132757 // encoder_loss :  0.0051679 // decoder_loss :  0.0108105 \n",
            "information of each batch : batch : 750 // batch_loss :  0.0121625 // encoder_loss :  0.0060322 // decoder_loss :  0.0081737 \n",
            "information of each batch : batch : 1000 // batch_loss :  0.0089782 // encoder_loss :  0.0032743 // decoder_loss :  0.0076051 \n",
            "information of each batch : batch : 1250 // batch_loss :  0.0057989 // encoder_loss :  0.0015281 // decoder_loss :  0.0056944 \n",
            "information of each batch : batch : 1500 // batch_loss :  0.0094607 // encoder_loss :  0.0033624 // decoder_loss :  0.0081311 \n",
            "information of each batch : batch : 1750 // batch_loss :  0.0050835 // encoder_loss :  0.0025307 // decoder_loss :  0.0034037 \n",
            "information of each batch : batch : 2000 // batch_loss :  0.0318657 // encoder_loss :  0.0151138 // decoder_loss :  0.0223359 \n",
            "information of each batch : batch : 2250 // batch_loss :  0.0129314 // encoder_loss :  0.0033696 // decoder_loss :  0.0127491 \n",
            "information of each batch : batch : 2500 // batch_loss :  0.0080220 // encoder_loss :  0.0022451 // decoder_loss :  0.0077025 \n",
            "information of each batch : batch : 2750 // batch_loss :  0.0104651 // encoder_loss :  0.0031210 // decoder_loss :  0.0097922 \n",
            "information of each batch : batch : 3000 // batch_loss :  0.0056432 // encoder_loss :  0.0013937 // decoder_loss :  0.0056660 \n",
            "information of each epoch: Epoch : 1 // loss :  0.0068920 // encoder_loss :  0.0018576 // decoder_loss :  0.0067125 \n"
          ]
        }
      ]
    },
    {
      "cell_type": "code",
      "source": [
        "torch.save(mymodel.state_dict(), '/content/drive/MyDrive/Saved_Stegano_model_onCIFAR100_ORG.pt')"
      ],
      "metadata": {
        "id": "-ik0u2qaG1sz"
      },
      "execution_count": null,
      "outputs": []
    },
    {
      "cell_type": "code",
      "source": [
        "'''\n",
        " here you can use my saved model that I have sent just upload it to your colab and then write its directory\n",
        " here -> (torch.load(directory))\n",
        "'''\n",
        "mysaved_model=Stegano_Network()\n",
        "mysaved_model.load_state_dict(torch.load('/content/drive/MyDrive/Saved_Stegano_model_onCIFAR100_ORG.pt',map_location=torch.device('cpu')))"
      ],
      "metadata": {
        "colab": {
          "base_uri": "https://localhost:8080/"
        },
        "id": "tE_e040lDCFp",
        "outputId": "9746134f-011b-45ff-91b5-640b42e8f07f"
      },
      "execution_count": null,
      "outputs": [
        {
          "output_type": "execute_result",
          "data": {
            "text/plain": [
              "<All keys matched successfully>"
            ]
          },
          "metadata": {},
          "execution_count": 14
        }
      ]
    },
    {
      "cell_type": "code",
      "source": [
        "############# Visual & Quantative evaluation ###############\n",
        "\n",
        "############# here we use our test images to evaluate our network #############\n",
        "\n",
        "MSE = DecoderLoss()\n",
        "\n",
        "for batch_i, (inputs, _) in enumerate(test_loader):\n",
        "  x=inputs\n",
        "  break\n",
        "\n",
        "c1 = torch.cat((x[10],x[11]),0)  # test images have been selected randomly\n",
        "c2 = torch.cat((x[3],x[12]),0)\n",
        "\n",
        "c_reshape1=torch.reshape(c1,(1,6,32,32))\n",
        "c_reshape2=torch.reshape(c2,(1,6,32,32))\n",
        "stego1,revealed1=mysaved_model.forward(c_reshape1)\n",
        "stego2,revealed2=mysaved_model.forward(c_reshape2)\n",
        "stego_x1=stego1.detach()\n",
        "stego_x2=stego2.detach()\n",
        "revealed_x1=revealed1.detach()\n",
        "revealed_x2=revealed2.detach()\n",
        "secret1 = torch.reshape(x[11],(1,3,32,32))\n",
        "secret2 = torch.reshape(x[12],(1,3,32,32))\n",
        "carrier1 = torch.reshape(x[10],(1,3,32,32))\n",
        "carrier2 = torch.reshape(x[3],(1,3,32,32))\n",
        "\n",
        "''' \n",
        "Quantative evaluation methods :\n",
        "    MSE\n",
        "    PSNR\n",
        "    SSIM\n",
        "'''\n",
        "#### SSIM ###\n",
        "ssim = StructuralSimilarityIndexMeasure()\n",
        "ssim_r_s1= ssim(revealed1, secret1)\n",
        "ssim_r_s2= ssim(revealed2, secret2)\n",
        "ssim_c_s1= ssim(stego1, carrier1)\n",
        "ssim_c_s2= ssim(stego2, carrier2)\n",
        "#### MSE  ###\n",
        "mse_r_S1 = MSE(revealed1, secret1)\n",
        "mse_r_S2 = MSE(revealed2, secret2)\n",
        "mse_c_S1 = MSE(stego1, carrier1)\n",
        "mse_c_S2 = MSE(stego2, carrier2)\n",
        "#### PSNR ### \n",
        "revealed1_f = tf.image.convert_image_dtype(revealed1.detach().numpy(), tf.float32)\n",
        "revealed2_f = tf.image.convert_image_dtype(revealed2.detach().numpy(), tf.float32)\n",
        "secret1_f = tf.image.convert_image_dtype(secret1.detach().numpy(), tf.float32) \n",
        "secret2_f = tf.image.convert_image_dtype(secret2.detach().numpy(), tf.float32) \n",
        "stego1_f = tf.image.convert_image_dtype(stego1.detach().numpy(), tf.float32)\n",
        "stego2_f = tf.image.convert_image_dtype(stego2.detach().numpy(), tf.float32)\n",
        "carrier1_f = tf.image.convert_image_dtype(carrier1.detach().numpy(), tf.float32) \n",
        "carrier2_f = tf.image.convert_image_dtype(carrier2.detach().numpy(), tf.float32) \n",
        "\n",
        "psnr_r_s1= tf.image.psnr(revealed1_f,secret1_f,max_val=1)\n",
        "psnr_r_s2= tf.image.psnr(revealed2_f,secret2_f,max_val=1)\n",
        "psnr_c_s1= tf.image.psnr(stego1_f,carrier1_f,max_val=1)\n",
        "psnr_c_s2= tf.image.psnr(stego2_f,carrier2_f,max_val=1)\n",
        "\n",
        "print(f\" Carrier vs Stego :: ssim : {ssim_c_s1} , MSE : {mse_c_S1}  , PSNR : {psnr_c_s1} //// Revealed vs Secret :: ssim : {ssim_r_s1} , MSE : {mse_r_S1}  , PSNR : {psnr_r_s1}\")\n",
        "print(f\" Carrier vs Stego :: ssim : {ssim_c_s2} , MSE : {mse_c_S2}  , PSNR : {psnr_c_s2} //// Revealed vs Secret :: ssim : {ssim_r_s2} , MSE : {mse_r_S2}  , PSNR : {psnr_r_s2}\")\n",
        "\n",
        "fig, ax = plt.subplots(1,4, figsize =(15,15))\n",
        "ax[0].imshow(x[10].permute(1,2,0))\n",
        "ax[1].imshow(x[11].permute(1,2,0))\n",
        "ax[2].imshow(stego_x1[0].permute(1,2,0))\n",
        "ax[3].imshow(revealed_x1[0].permute(1,2,0))\n",
        "ax[0].set_title(\"Cover Image\")\n",
        "ax[1].set_title(\"Secret Image\")\n",
        "ax[2].set_title(\"Stego Image\")\n",
        "ax[3].set_title(\"revealed Image\")\n",
        "fig, ax = plt.subplots(1,4, figsize =(15,15))\n",
        "ax[0].imshow(x[3].permute(1,2,0))\n",
        "ax[1].imshow(x[12].permute(1,2,0))\n",
        "ax[2].imshow(stego_x2[0].permute(1,2,0))\n",
        "ax[3].imshow(revealed_x2[0].permute(1,2,0))\n",
        "ax[0].set_title(\"Cover Image\")\n",
        "ax[1].set_title(\"Secret Image\")\n",
        "ax[2].set_title(\"Stego Image\")\n",
        "ax[3].set_title(\"revealed Image\")"
      ],
      "metadata": {
        "colab": {
          "base_uri": "https://localhost:8080/",
          "height": 599
        },
        "id": "q0qYrMiryMwa",
        "outputId": "a1643a6b-f491-482a-b185-6f9a5ea21797"
      },
      "execution_count": null,
      "outputs": [
        {
          "output_type": "stream",
          "name": "stderr",
          "text": [
            "/usr/local/lib/python3.7/dist-packages/torchmetrics/utilities/prints.py:36: UserWarning: Metric `SSIM` will save all targets and predictions in buffer. For large datasets this may lead to large memory footprint.\n",
            "  warnings.warn(*args, **kwargs)\n",
            "Clipping input data to the valid range for imshow with RGB data ([0..1] for floats or [0..255] for integers).\n"
          ]
        },
        {
          "output_type": "stream",
          "name": "stdout",
          "text": [
            " Carrier vs Stego :: ssim : 0.9545519351959229 , MSE : 0.0006049023359082639  , PSNR : [32.183144] //// Revealed vs Secret :: ssim : 0.8653984665870667 , MSE : 0.012264314107596874  , PSNR : [19.113567]\n",
            " Carrier vs Stego :: ssim : 0.9599326848983765 , MSE : 0.0015314664924517274  , PSNR : [28.148924] //// Revealed vs Secret :: ssim : 0.9026185870170593 , MSE : 0.004411579109728336  , PSNR : [23.554058]\n"
          ]
        },
        {
          "output_type": "execute_result",
          "data": {
            "text/plain": [
              "Text(0.5, 1.0, 'revealed Image')"
            ]
          },
          "metadata": {},
          "execution_count": 17
        },
        {
          "output_type": "display_data",
          "data": {
            "text/plain": [
              "<Figure size 1080x1080 with 4 Axes>"
            ],
            "image/png": "[encoded data removed]"
          },
          "metadata": {
            "needs_background": "light"
          }
        },
        {
          "output_type": "display_data",
          "data": {
            "text/plain": [
              "<Figure size 1080x1080 with 4 Axes>"
            ],
            "image/png": "[encoded data removed]"
          },
          "metadata": {
            "needs_background": "light"
          }
        }
      ]
    },
    {
      "cell_type": "code",
      "source": [],
      "metadata": {
        "id": "EQSoqg5hXY-p"
      },
      "execution_count": null,
      "outputs": []
    }
  ]
}